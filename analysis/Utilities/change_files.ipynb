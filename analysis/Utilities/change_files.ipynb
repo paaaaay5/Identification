{
 "cells": [
  {
   "cell_type": "markdown",
   "metadata": {},
   "source": [
    "### ファイルの読み込み"
   ]
  },
  {
   "cell_type": "code",
   "execution_count": 5,
   "metadata": {},
   "outputs": [
    {
     "name": "stdout",
     "output_type": "stream",
     "text": [
      "頭数: 176\n",
      "ファイル数: 4944\n"
     ]
    }
   ],
   "source": [
    "import xml.etree.ElementTree as ET\n",
    "import os\n",
    "import shutil\n",
    "\n",
    "path4=\"E:\\\\Project\\\\Data\\\\DATA6\"\n",
    "target_files = []\n",
    "\n",
    "direc=[]\n",
    "for root, dirs, files in os.walk(path4):\n",
    "    targets = [os.path.join(root, f) for f in files]\n",
    "    target_files.extend(targets)\n",
    "    direc.extend(dirs)\n",
    "\n",
    "print(\"頭数: {}\".format(len(direc)))\n",
    "print(\"ファイル数: {}\".format(len(target_files)))"
   ]
  },
  {
   "cell_type": "markdown",
   "metadata": {},
   "source": [
    "### ファイル数100以下の牛を消去"
   ]
  },
  {
   "cell_type": "code",
   "execution_count": 4,
   "metadata": {},
   "outputs": [],
   "source": [
    "s=0\n",
    "N=[]\n",
    "\n",
    "for i in range(len(direc)):\n",
    "    path5=path4+\"/\"+direc[i]\n",
    "    for root, dirs, files in os.walk(path5):\n",
    "        targets = [os.path.join(root, f) for f in files]\n",
    "\n",
    "    n=len(targets)\n",
    "    if n<20:\n",
    "        shutil.rmtree(path5)"
   ]
  },
  {
   "cell_type": "code",
   "execution_count": null,
   "id": "e92adaca",
   "metadata": {},
   "outputs": [],
   "source": [
    "import matplotlib.pyplot as plt\n",
    "dx=list(range(176))\n",
    "dy=N\n",
    "plt.figure(figsize=(20,4))\n",
    "plt.title(\"Honakawa_2021\",fontsize=30)\n",
    "plt.plot(dx,dy)\n",
    "plt.show()"
   ]
  },
  {
   "cell_type": "markdown",
   "metadata": {},
   "source": [
    "### ファイルの仕分け"
   ]
  },
  {
   "cell_type": "code",
   "execution_count": 17,
   "metadata": {},
   "outputs": [],
   "source": [
    "for i in range(len(target_files)):\n",
    "    A=target_files[i]\n",
    "    A=A[-21:-4]\n",
    "    new_dir_path=path4+\"/\"+A\n",
    "\n",
    "    if \"LA\" in A:\n",
    "        if not os.path.exists(new_dir_path):\n",
    "            os.mkdir(new_dir_path)\n",
    "        if os.path.exists(new_dir_path+\"/\"+target_files[i]):\n",
    "            continue\n",
    "        else:\n",
    "            shutil.move(target_files[i], new_dir_path)"
   ]
  }
 ],
 "metadata": {
  "interpreter": {
   "hash": "725541bd0b374432e31831f49093160a50ad23720fd9c704e3a6429e07e25640"
  },
  "kernelspec": {
   "display_name": "Python 3.7.1 64-bit ('ConvLSTM': conda)",
   "name": "python3"
  },
  "language_info": {
   "codemirror_mode": {
    "name": "ipython",
    "version": 3
   },
   "file_extension": ".py",
   "mimetype": "text/x-python",
   "name": "python",
   "nbconvert_exporter": "python",
   "pygments_lexer": "ipython3",
   "version": "3.7.1"
  }
 },
 "nbformat": 4,
 "nbformat_minor": 5
}
